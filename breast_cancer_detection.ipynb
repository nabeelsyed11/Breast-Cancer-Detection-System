print("Breast Cancer Detection System")
print("Heyyy")
